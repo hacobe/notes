{
 "cells": [
  {
   "cell_type": "markdown",
   "id": "4ba5488b",
   "metadata": {},
   "source": [
    "# Quicksort\n",
    "\n",
    "## Intuition\n",
    "\n",
    "In merge sort, we divide the array in half and have to store each half. The key idea of Quicksort is that we can efficiently divide the array without creating additional arrays if in one pass of the array we can swap elements in such a way that one element moves to its final position in the sorted array and where all the elements to the left of that element are less than or equal to it and all the elements to the right are greater than it. Then, we can apply the same approach to the elements to the left and again to the elements to the right and so on until all the elements are in their final position in the sorted array.\n",
    "\n",
    "## Stable Quicksort\n",
    "\n",
    "Take a deck of cards. In merge sort, we split the deck in half, sorted each half and then merged the two sorted halves together and the way we sorted each half was to split the half in half, sort each quarter and then merge the quarters together and so on...\n",
    "\n",
    "In Quicksort, we look at the first card in the deck and then scan through each card in the rest of the deck putting the cards less than (or equal to) the first card in one pile and the cards greater than the first card in another pile (an easier task than sorting the deck). Then we have a pile on the left, the first card, and a pile on the right. The first card is in its final position in the sorted deck, because all of the cards to the left it are less than or equal to it and all the cards to the right of it are greater than it. If we sorted the left pile and we sorted the right pile, then we would be done. But we can give the left pile to one friend to sort and the right pile to another friend to sort. Each friend can apply the same logic we have until a friend of friend ... of a friend has say 3 cards and they divide those 3 cards into a left pile, the first card and the right pile and they hand each pile to a friend to sort who just hands the 1 card in their pile back and says it is sorted, but then the 3 cards are sorted, because the left pile of 1 card is sorted and the right pile of 1 card is sorted and we know the card on the left is less than or equal to the first card and the card on the right is greater than the first card and this goes all the way back up until our left pile is sorted and our right pile is sorted and we know the entire deck is then sorted.\n",
    "\n",
    "Instead of splitting the deck, sorting each half and then merging the sorted halves. In quick sort, we split the deck around the first card and sort each pile (not necessarily a half of the deck) on either side of the first card.\n",
    "\n",
    "## Why Quicksort?\n",
    "\n",
    "Why do this instead of merge sort? At this point, the analogy of the deck breaks down. In merge sort, splitting the deck in half requires additional memory, because it requires storing each half in its own array in addition to the input array (the deck). For quick sort, it turns that out we can divide the deck into 2 piles \"in-place\", i.e. by moving around elements in the input array rather than storing 2 new arrays (or by swapping cards while keeping the deck together rather than splitting the deck into piles).\n",
    "\n",
    "\n",
    "Is there a way to do merge sort without storing the 2 halves? No. We can write a merge sort that sorts the left side of the array with one function call and the right side of the array with another function call without splitting the array. However, when we try to ”merge” the two sides of the array, we have a problem. Suppose we have an array `[4, 5, 6, 1, 2, 3]` where the left side is sorted and the right side is sorted. We compare the first element of the left side (4) and the first element of the right side (1) and find that the right side is smaller, but when we move the right side to the front of the array then we overwrite the first element on the left and can no longer compare that to the second element on the right side (2). We need to store at least half of the array.\n",
    "\n",
    "## Unstable, in-place quicksort\n",
    "\n",
    "Here’s an alternative way to divide the deck into 2 piles in quick sort without having to split the deck.\n",
    "\n",
    "Place a white pawn on the second card in the deck and a black pawn on the last card in the deck.\n",
    "\n",
    "Move the white pawn to right until we reach a card greater than the first card. Then, move the black pawn to the left until we reach a card less than the first card. Then, swap those 2 cards.\n",
    "\n",
    "Continue this process of moving the white pawn to the right and the black pawn to the left and swapping cards until the white pawn crosses the black pawn or vice versa. At that point, we know that all of the cards to the left of the white pawn (including the card that the black pawn is on) are less than or equal to the first card, because the white pawn has passed through them and we would have swapped any card greater than the first card. Similarly, we know that all the cards to the right of the black pawn are greater than the first card. All we have to do now is to swap the first card with the black pawn card (which we know is less than or equal to the first card, because the white pawn has passed through it).\n",
    "\n",
    "## Connection to Binary Search Trees\n",
    "\n",
    "A certain flavor of quick sort is a space-optimized binary search tree sort. That flavor of quick sort requires:\n",
    "\n",
    "* stable partition\n",
    "* pivot is first element\n",
    "\n",
    "In that flavor, each run of quick sort corresponds to a BST, where the root is the pivot and each left and right subtree is a side of the partition.\n",
    "\n",
    "## Hoare vs Lomuto partitioning\n",
    "\n",
    "We use the Hoare partitioning scheme below. Lomuto does not perform well for many repeated elements (https://www.geeksforgeeks.org/hoares-vs-lomuto-partition-scheme-quicksort/)."
   ]
  },
  {
   "cell_type": "markdown",
   "id": "c66f3394",
   "metadata": {},
   "source": [
    "## Implementation"
   ]
  },
  {
   "cell_type": "code",
   "execution_count": 1,
   "id": "3110c264",
   "metadata": {},
   "outputs": [],
   "source": [
    "import random\n",
    "\n",
    "def partition(arr, low, high):\n",
    "    pivot_index = low\n",
    "    pivot = arr[pivot_index]\n",
    "    left = low - 1\n",
    "    right = high + 1\n",
    "    while True:\n",
    "        left += 1\n",
    "        while arr[left] < pivot:\n",
    "            left += 1\n",
    "        right -= 1\n",
    "        while arr[right] > pivot:\n",
    "            right -= 1\n",
    "        if left >= right:\n",
    "            return right\n",
    "        arr[left], arr[right] = arr[right], arr[left]\n",
    "\n",
    "def _quicksort(arr, low, high):\n",
    "    if low < high:\n",
    "        pivot_index = partition(arr, low, high)\n",
    "        _quicksort(arr, low, pivot_index)\n",
    "        _quicksort(arr, pivot_index + 1, high)\n",
    "\n",
    "def quicksort(arr):\n",
    "    random.shuffle(arr)\n",
    "    _quicksort(arr, 0, len(arr)-1)\n",
    "    \n",
    "def test_quicksort():\n",
    "    arr = [1, 5, 3, -4, -10, 0]\n",
    "    quicksort(arr)\n",
    "    assert arr == [-10, -4, 0, 1, 3, 5], arr\n",
    "    \n",
    "test_quicksort()"
   ]
  },
  {
   "cell_type": "code",
   "execution_count": null,
   "id": "a69252b3",
   "metadata": {},
   "outputs": [],
   "source": []
  }
 ],
 "metadata": {
  "kernelspec": {
   "display_name": "Python 3 (ipykernel)",
   "language": "python",
   "name": "python3"
  },
  "language_info": {
   "codemirror_mode": {
    "name": "ipython",
    "version": 3
   },
   "file_extension": ".py",
   "mimetype": "text/x-python",
   "name": "python",
   "nbconvert_exporter": "python",
   "pygments_lexer": "ipython3",
   "version": "3.11.3"
  }
 },
 "nbformat": 4,
 "nbformat_minor": 5
}
