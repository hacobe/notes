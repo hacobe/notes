{
 "cells": [
  {
   "cell_type": "markdown",
   "id": "8d971ebe",
   "metadata": {},
   "source": [
    "# Dynamic programming\n",
    "\n",
    "Dynamic programming is a technique for solving a problem that involves dividing the problem into subproblems, solving each subproblem once and storing the answer in case we see the same subproblem again.\n",
    "\n",
    "We can do Dynamic Programming **top-down** or **bottom-up**, which I explain with the example of calculating the $n$-th Fibonacci number.\n",
    "\n",
    "## Naive approach\n",
    "\n",
    "Let $F_i$ be the $i$th Fibonacci number, where $F_1 = 1$, $F_2 = 1$ and $F_i = F_{i-1} + F_{i-2}$. Given some integer $n >= 1$, what is an algorithm for calculating $F_n$? The naive approach is the following recursive algorithm:"
   ]
  },
  {
   "cell_type": "code",
   "execution_count": 5,
   "id": "09be62ba",
   "metadata": {},
   "outputs": [],
   "source": [
    "def fib(n):\n",
    "    if n <= 2:\n",
    "        f = 1\n",
    "    else:\n",
    "        f = fib(n-1) + fib(n-2)\n",
    "    return f"
   ]
  },
  {
   "cell_type": "markdown",
   "id": "a9e3b4ee",
   "metadata": {},
   "source": [
    "What is the running time for this algorithm? We write the recurrence relation:\n",
    "\n",
    "$$T(n) = T(n-1) + T(n-2) + O(1)$$\n",
    "\n",
    "$T(n-1)$ includes the work of $T(n-2)$, so:\n",
    "\n",
    "$$T(n) >= 2 T(n-2)$$\n",
    "\n",
    "We can subtract 2 from $n$ for $n / 2$ times before hitting 0 or 1 and each time we multiply by 2:\n",
    "\n",
    "$$T(n) >= c 2^{n/2}$$\n",
    "\n",
    "So the running time is exponential. However, if we draw the recursion tree:\n",
    "\n",
    "```\n",
    "\t      fib(n)\n",
    "\t    /        \\\n",
    "\t  fib(n-1)   fib(n-2)\n",
    "\t  /      \\\n",
    "\tfib(n-2)  ...\n",
    "```\n",
    "\n",
    "We see that the same subproblems will appear multiple times.\n",
    "\n",
    "## Top-down Dynamic Programming\n",
    "\n",
    "The top-down Dynamic Programming approach is sometimes called **memoization**. Recall that we store the answer to each subproblem after we solve it in case we see that subproblem again:"
   ]
  },
  {
   "cell_type": "code",
   "execution_count": 1,
   "id": "657abedd",
   "metadata": {},
   "outputs": [],
   "source": [
    "def _fib(n, memo):\n",
    "    if n == 1:\n",
    "        return 1\n",
    "    elif n == 2:\n",
    "        return 1\n",
    "    \n",
    "    if n-1 not in memo:\n",
    "        memo[n-1] = _fib(n-1, memo)\n",
    "    \n",
    "    if n-2 not in memo:\n",
    "        memo[n-2] = _fib(n-2, memo)\n",
    "        \n",
    "    return memo[n-1] + memo[n-2]\n",
    "    \n",
    "def fib(n):\n",
    "    memo = {}\n",
    "    return _fib(n, memo)"
   ]
  },
  {
   "cell_type": "markdown",
   "id": "fca3b07c",
   "metadata": {},
   "source": [
    "There are $n$ subproblems that we have to solve and each takes a constant amount of work, so the running time of this algorithm is $O(n)$ instead of $O(2^n)$.\n",
    "\n",
    "## Bottom-up Dynamic Programming\n",
    "\n",
    "The bottom-up Dynamic programming is sometimes called **tabulation**. We perform the same calculations as the top-down approach, but instead of recursing down, we build the calculations starting from the bottom:"
   ]
  },
  {
   "cell_type": "code",
   "execution_count": 4,
   "id": "9031bc78",
   "metadata": {},
   "outputs": [],
   "source": [
    "def fib(n):\n",
    "    a = 1\n",
    "    b = 1\n",
    "    c = 1\n",
    "    for _ in range(2, n):\n",
    "        c = a + b\n",
    "        a = b\n",
    "        b = c\n",
    "    return c"
   ]
  }
 ],
 "metadata": {
  "kernelspec": {
   "display_name": "Python 3",
   "language": "python",
   "name": "python3"
  },
  "language_info": {
   "codemirror_mode": {
    "name": "ipython",
    "version": 3
   },
   "file_extension": ".py",
   "mimetype": "text/x-python",
   "name": "python",
   "nbconvert_exporter": "python",
   "pygments_lexer": "ipython3",
   "version": "3.7.3"
  }
 },
 "nbformat": 4,
 "nbformat_minor": 5
}
