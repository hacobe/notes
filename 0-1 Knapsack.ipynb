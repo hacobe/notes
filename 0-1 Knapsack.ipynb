{
 "cells": [
  {
   "cell_type": "markdown",
   "id": "b9341a16",
   "metadata": {},
   "source": [
    "# 0-1 Knapsack"
   ]
  },
  {
   "cell_type": "markdown",
   "id": "9cac5c92",
   "metadata": {},
   "source": [
    "Suppose you have $n$ items, where the weight of the $i$th item is given by the integer weights[i] and the value of the $i$th item is given by the integer values[i]. You also have a knapsack that can hold any number of items as long as their total weight is less than or equal to weight $W$. Write a function to return the maximum total value that can be attained for items placed in the knapsack."
   ]
  },
  {
   "cell_type": "markdown",
   "id": "46818f1c",
   "metadata": {},
   "source": [
    "## Brute force"
   ]
  },
  {
   "cell_type": "markdown",
   "id": "4cc43c49",
   "metadata": {},
   "source": [
    "You can either include the last item in the knapsack if its weight is below the knapsack's capacity or you can not include it. In the worst case, you have 2 choices for each item, so the time complexity is $O(2^n)$. The space complexity is $O(1)$."
   ]
  },
  {
   "cell_type": "code",
   "execution_count": null,
   "id": "ec8356f2",
   "metadata": {},
   "outputs": [],
   "source": [
    "def knapSack(W, wt, val, n):\n",
    "    if n == 0 or W == 0:\n",
    "        return 0\n",
    "    \n",
    "    value_if_last_item_not_included = self.knapSack(W, wt, val, n-1)\n",
    "    \n",
    "    if wt[n-1] > W:\n",
    "        return value_if_last_item_not_included\n",
    "    \n",
    "    value_if_last_item_included = (\n",
    "        val[n-1] + self.knapSack(W-wt[n-1], wt, val, n-1))\n",
    "\n",
    "    return max(value_if_last_item_not_included, value_if_last_item_included)"
   ]
  },
  {
   "cell_type": "markdown",
   "id": "e4f07241",
   "metadata": {},
   "source": [
    "## Memoization"
   ]
  },
  {
   "cell_type": "markdown",
   "id": "dd0c3260",
   "metadata": {},
   "source": [
    "In the worst case, each item has weight 1 and the time complexity is $O(nW)$. The space complexity is also $O(nW)$."
   ]
  },
  {
   "cell_type": "code",
   "execution_count": 1,
   "id": "eb2c6f26",
   "metadata": {},
   "outputs": [],
   "source": [
    "def knapSack(W, wt, val, n, memo):\n",
    "    if n == 0 or W == 0:\n",
    "        return 0\n",
    "    \n",
    "    if (W, n-1) not in memo:\n",
    "        memo[(W, n-1)] = knapSack(W, wt, val, n-1, memo)\n",
    "    value_if_last_item_not_included = memo[(W, n-1)]\n",
    "    \n",
    "    if wt[n-1] > W:\n",
    "        return value_if_last_item_not_included\n",
    "    \n",
    "    if (W-wt[n-1], n-1) not in memo:\n",
    "        memo[(W-wt[n-1], n-1)] = knapSack(W-wt[n-1], wt, val, n-1, memo)\n",
    "    value_if_last_item_included = val[n-1] + memo[(W-wt[n-1], n-1)]\n",
    "\n",
    "    return max(value_if_last_item_not_included, value_if_last_item_included)"
   ]
  },
  {
   "cell_type": "markdown",
   "id": "dd0ad24d",
   "metadata": {},
   "source": [
    "## Tabulation"
   ]
  },
  {
   "cell_type": "markdown",
   "id": "f7a651f4",
   "metadata": {},
   "source": [
    "As with memoization, the time complexity is $O(nW)$ and the space complexity is $O(nW)$."
   ]
  },
  {
   "cell_type": "code",
   "execution_count": null,
   "id": "1cbf71c5",
   "metadata": {},
   "outputs": [],
   "source": [
    "def knapSack(W, wt, val, n, memo):\n",
    "    if n == 0 or W == 0:\n",
    "        return 0\n",
    "\n",
    "    tab = [[0 for _ in range(W+1)] for _ in range(n+1)]\n",
    "    for m in range(1, n+1):    \n",
    "        for w in range(1, W+1):\n",
    "            if wt[m-1] > w:\n",
    "                tab[m][w] = tab[m-1][w]\n",
    "            else:\n",
    "                tab[m][w] = max(tab[m-1][w], val[m-1] + tab[m-1][w-wt[m-1]])\n",
    "\n",
    "    return tab[n][W]"
   ]
  },
  {
   "cell_type": "markdown",
   "id": "ecde58a1",
   "metadata": {},
   "source": [
    "You can get down to $O(W)$ space complexity, because we only need to keep track of the result for some $w$ for $n-1$ and not all $k < n$."
   ]
  },
  {
   "cell_type": "code",
   "execution_count": null,
   "id": "3e21198c",
   "metadata": {},
   "outputs": [],
   "source": [
    "def knapSack(W, wt, val, n, memo):\n",
    "    if n == 0 or W == 0:\n",
    "        return 0\n",
    "\n",
    "    tab = [0 for _ in range(W+1)]\n",
    "    for m in range(1, n+1):    \n",
    "        for w in range(W, -1, -1):\n",
    "            if wt[m-1] <= w:\n",
    "                tab[w] = max(tab[w], val[m-1] + tab[w-wt[m-1]])\n",
    "\n",
    "    return tab[W]"
   ]
  },
  {
   "cell_type": "markdown",
   "id": "02338ac1",
   "metadata": {},
   "source": [
    "## Sources\n",
    "\n",
    "* https://www.geeksforgeeks.org/0-1-knapsack-problem-dp-10/"
   ]
  }
 ],
 "metadata": {
  "kernelspec": {
   "display_name": "Python 3",
   "language": "python",
   "name": "python3"
  },
  "language_info": {
   "codemirror_mode": {
    "name": "ipython",
    "version": 3
   },
   "file_extension": ".py",
   "mimetype": "text/x-python",
   "name": "python",
   "nbconvert_exporter": "python",
   "pygments_lexer": "ipython3",
   "version": "3.7.3"
  }
 },
 "nbformat": 4,
 "nbformat_minor": 5
}
