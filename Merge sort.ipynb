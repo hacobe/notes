{
 "cells": [
  {
   "cell_type": "markdown",
   "id": "2d0c70ea",
   "metadata": {},
   "source": [
    "# Merge sort"
   ]
  },
  {
   "cell_type": "markdown",
   "id": "46a44983",
   "metadata": {},
   "source": [
    "## Intuition\n",
    "\n",
    "If you wonder how you might use recursion to sort an array, merge sort is a natural answer. In other words, if you wonder how you might enlist your friends to help you sort in a divide and conquer fashion, merge sort is a natural answer.\n",
    "\n",
    "## Merge\n",
    "\n",
    "Suppose you want to sort a deck of cards, but you’re lazy, so you split the deck in half and give one half to one friend and another half to the another friend and get each friend to sort their half and then give the cards back to you.\n",
    "\n",
    "You can then merge the two sorted halves as follows. Put the two halves next to each other.\n",
    "\n",
    "Turn over the top card for each half and take whichever card is lower and start a new pile that will be for the sorted deck.\n",
    "\n",
    "Do that again with the next top card on the half that had the lower card and the same top card on the half that had the higher card and take the card that is lower between those two cards and add it to the pile that you created.\n",
    "\n",
    "Keep doing that until one of the halves runs out.\n",
    "\n",
    "Add the cards from the remaining half to the pile for the sorted deck.\n",
    "\n",
    "## Recursion\n",
    "\n",
    "We've described how you can get one sorted deck if given two sorted halves.\n",
    "\n",
    "But this same logic applies to your two friends. Each of your friends could be lazy and find 2 other friends and split their deck in half and get their friends to sort half of their halves.\n",
    "\n",
    "And the same logic applies to the friends of friends. Here’s a picture of that process (F = Friend, FoF = friend of friend):\n",
    "\n",
    "```\n",
    "\t\t          You\n",
    "\t\t   /                 \\  \n",
    "    \t  F1             \t F2\n",
    "      /       \\\t\t    /        \\\n",
    "    FoF1.1   FoF1.1   FoF2.1    FoF1.1\n",
    "```\n",
    "\n",
    "This tree keeps growing until your friend of friend of friends... each only have 2 cards and they hand their friend of friend of friend of friends... 1 card each and that friend doesn't even have to do anything, because their half is already sorted (it's only 1 card). So the friend of friend of friends... immediately take back their 2 sorted halves of 1 card and follow the merging procedure to get a sorted deck of 2 cards and then the friend of friends take back their 2 sorted halves of 2 cards and follow the merging procedure to get a sorted deck of 4 cards and so on until your 2 friends hand you back their halves sorted."
   ]
  },
  {
   "cell_type": "code",
   "execution_count": 3,
   "id": "c57ff728",
   "metadata": {},
   "outputs": [],
   "source": [
    "def merge_sort(arr):\n",
    "    if len(arr) == 1:\n",
    "        return\n",
    "\n",
    "    mid = len(arr) // 2\n",
    "    left = arr[:mid]\n",
    "    right = arr[mid:]\n",
    "\n",
    "    merge_sort(left)\n",
    "    merge_sort(right)\n",
    "\n",
    "    i = j = k = 0\n",
    "    # Remember this is testing the bounds of left and right not arr\n",
    "    while i < len(left) and j < len(right):\n",
    "        if left[i] < right[j]:\n",
    "            arr[k] = left[i]\n",
    "            i += 1\n",
    "            k += 1\n",
    "        else:\n",
    "            arr[k] = right[j]\n",
    "            j += 1\n",
    "            k += 1\n",
    "\n",
    "    while i < len(left):\n",
    "        arr[k] = left[i]\n",
    "        i += 1\n",
    "        k += 1\n",
    "\n",
    "    while j < len(right):\n",
    "        arr[k] = right[j]\n",
    "        j += 1\n",
    "        k += 1\n",
    "        \n",
    "def test_merge_sort():\n",
    "    arr = [1, 5, 3, -4, -10, 0]\n",
    "    merge_sort(arr)\n",
    "    assert arr == [-10, -4, 0, 1, 3, 5], arr\n",
    "    \n",
    "test_merge_sort()"
   ]
  }
 ],
 "metadata": {
  "kernelspec": {
   "display_name": "Python 3",
   "language": "python",
   "name": "python3"
  },
  "language_info": {
   "codemirror_mode": {
    "name": "ipython",
    "version": 3
   },
   "file_extension": ".py",
   "mimetype": "text/x-python",
   "name": "python",
   "nbconvert_exporter": "python",
   "pygments_lexer": "ipython3",
   "version": "3.7.3"
  }
 },
 "nbformat": 4,
 "nbformat_minor": 5
}
