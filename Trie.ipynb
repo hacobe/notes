{
 "cells": [
  {
   "cell_type": "markdown",
   "id": "0cff80dc",
   "metadata": {},
   "source": [
    "# Trie\n",
    "\n",
    "A trie is a tree where each node is associated with a **letter** in an **alphabet** and a bit for whether the letters along the path from the root to the node form a **word** in a **dictionary**.\n",
    "\n",
    "It’s easiest to imagine a trie with every word in a dictionary in it:\n",
    "\n",
    "```\n",
    "\t\t   \troot\n",
    "\t\t /   |   |  \\\n",
    "\t   a     b   c  ...\n",
    "    /  |  \\\n",
    "\ta  b*  ...\n",
    "```\n",
    "\n",
    "b* has the asterisk, because root $\\rightarrow$ a $\\rightarrow$ b forms the word \"ab\". The nodes associated with words may also get some value or payload and the search function can return this value. Or the search function can just return whether the word exists.\n",
    "\n",
    "Going to the next level in the tree is going to the next position in a word, e.g. the 3rd level is all the 3 letter words."
   ]
  },
  {
   "cell_type": "code",
   "execution_count": 1,
   "id": "e1d45e6a",
   "metadata": {},
   "outputs": [],
   "source": [
    "class TrieNode:\n",
    "    def __init__(self, value=None):\n",
    "        # If value is not None, then it both carries the payload\n",
    "        # for a word and signifies that we've reached the end of a word.\n",
    "        self.value = value\n",
    "        self.children = {}\n",
    "\n",
    "class Trie:\n",
    "    def __init__(self):\n",
    "        self.root = TrieNode()\n",
    "\n",
    "    def search(self, word):\n",
    "        node = self.root\n",
    "        for ch in word:\n",
    "            if ch in node.children:\n",
    "                node = node.children[ch]\n",
    "            else:\n",
    "                return None\n",
    "        return node.value\n",
    "\n",
    "    def insert(self, word, value):\n",
    "        node = self.root\n",
    "        for ch in word:\n",
    "            if ch not in node.children:\n",
    "                node.children[ch] = TrieNode()\n",
    "            node = node.children[ch]\n",
    "        node.value = value"
   ]
  }
 ],
 "metadata": {
  "kernelspec": {
   "display_name": "Python 3",
   "language": "python",
   "name": "python3"
  },
  "language_info": {
   "codemirror_mode": {
    "name": "ipython",
    "version": 3
   },
   "file_extension": ".py",
   "mimetype": "text/x-python",
   "name": "python",
   "nbconvert_exporter": "python",
   "pygments_lexer": "ipython3",
   "version": "3.7.3"
  }
 },
 "nbformat": 4,
 "nbformat_minor": 5
}
