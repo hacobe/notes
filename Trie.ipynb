{
 "cells": [
  {
   "cell_type": "markdown",
   "id": "0cff80dc",
   "metadata": {},
   "source": [
    "# Trie\n",
    "\n",
    "A trie is a tree where each node is associated with a **letter** in an **alphabet** and a bit for whether the letters along the path from the root to the node form a **word** in a **dictionary**.\n",
    "\n",
    "It’s easiest to imagine a trie with every word in a dictionary in it:\n",
    "\n",
    "```\n",
    "\t\t     root\n",
    "\t\t /   |   |  \\\n",
    "\t   a     b   c  ...\n",
    "    /  |  \\\n",
    "\ta  b*  ...\n",
    "```\n",
    "\n",
    "b* has the asterisk, because root $\\rightarrow$ a $\\rightarrow$ b forms the word \"ab\". The nodes associated with words may also get some value or payload and the search function can return this value. Or the search function can just return whether the word exists.\n",
    "\n",
    "Going to the next level in the tree is going to the next position in a word, e.g. the 3rd level is all the 3 letter words."
   ]
  },
  {
   "cell_type": "code",
   "execution_count": 1,
   "id": "e1d45e6a",
   "metadata": {},
   "outputs": [],
   "source": [
    "class TrieNode:\n",
    "    def __init__(self):\n",
    "        self.is_word = False\n",
    "        self.children = {}\n",
    "\n",
    "class Trie:\n",
    "    def __init__(self):\n",
    "        self.root = TrieNode()\n",
    "\n",
    "    def _traverse(self, text):\n",
    "        node = self.root\n",
    "        for ch in text:\n",
    "            if ch not in node.children:\n",
    "                return\n",
    "            node = node.children[ch]\n",
    "        return node\n",
    "    \n",
    "    def search(self, word):\n",
    "        node = self._traverse(prefix)\n",
    "        if not node:\n",
    "            return False\n",
    "        return node.is_word\n",
    "    \n",
    "    def startsWith(self, prefix):\n",
    "        node = self._traverse(word)\n",
    "        return (node is not None)\n",
    "    \n",
    "    def insert(self, word):\n",
    "        node = self.root\n",
    "        for ch in word:\n",
    "            if ch not in node.children:\n",
    "                node.children[ch] = TrieNode()\n",
    "            node = node.children[ch]\n",
    "        node.is_word = True"
   ]
  },
  {
   "cell_type": "markdown",
   "id": "8c4542dc",
   "metadata": {},
   "source": [
    "## Sources\n",
    "\n",
    "* https://leetcode.com/problems/implement-trie-prefix-tree/\n",
    "* https://leetcode.com/problems/implement-trie-prefix-tree/solutions/632158/python3-trie/?orderBy=most_relevant&languageTags=python3"
   ]
  },
  {
   "cell_type": "code",
   "execution_count": null,
   "id": "6923a134",
   "metadata": {},
   "outputs": [],
   "source": []
  }
 ],
 "metadata": {
  "kernelspec": {
   "display_name": "Python 3 (ipykernel)",
   "language": "python",
   "name": "python3"
  },
  "language_info": {
   "codemirror_mode": {
    "name": "ipython",
    "version": 3
   },
   "file_extension": ".py",
   "mimetype": "text/x-python",
   "name": "python",
   "nbconvert_exporter": "python",
   "pygments_lexer": "ipython3",
   "version": "3.9.12"
  }
 },
 "nbformat": 4,
 "nbformat_minor": 5
}
